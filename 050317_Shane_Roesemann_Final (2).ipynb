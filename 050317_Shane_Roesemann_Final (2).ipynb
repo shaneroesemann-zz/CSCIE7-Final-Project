{
 "cells": [
  {
   "cell_type": "markdown",
   "metadata": {},
   "source": [
    "# Plotting the Human Microbiome using Principle Component Analysis\n",
    "### Shane Roesemann\n"
   ]
  },
  {
   "cell_type": "markdown",
   "metadata": {},
   "source": [
    "<p>Hello!  \n",
    "\n",
    "Welcome to my final project for CSCI E-7, Introdction to Programming in Python, via Harvard Extension School. \n",
    "\n",
    "In this notebook I will detail how to create a PCA using publicly available OTU (operational taxonomic unit) tables from the HMP (Human Microbiome Project)\n",
    "</p>"
   ]
  },
  {
   "cell_type": "markdown",
   "metadata": {},
   "source": [
    "### Background information\n",
    "\n",
    "<p> Community based microbial studies are increasing in popularity.  This community, called a \"microbiome\"  offers a huge amount of data for the interaction of the individual bacteria and their hosts, interaction between bacteria, correlations between disease states and community composition, etc.</p>\n",
    "\n",
    "<p>Many of these studies utilize a sequencing technique called Metagenomic 16S Sequencing.  This technique identifies the components of the community and their relative abundances.  The output is expressed as an OTU table.  OTU tables have the identified bug as the row name, the sample ID as the column name, and the abundance as the intersection.</p>\n",
    "\n",
    "<p>How does one compare the composition of one sample to another when there could be thousands of bugs?  How do you compare two groups of 50 samples each?  Since there are so many variables here (or dimensions), it is impossible to capture all of this information on a 2D plot.  Therefore, you must use some sort of mathematical process to plot N-dimensional data onto a 2D plane without losing much information.  The process I am describing is a Principle Component Analysis, or PCA.</p>\n",
    "\n",
    "<p>A PCA does exactly what we need: it takes high-dimensional data (data with many many variables) and plots it into a 2D plane.  The idea is to minimize the information lost, so that the 2D image is still informative about all of the n-dimensions.  Here's roughly how it works:</p>\n",
    "\n",
    "<p>A vector is drawn on the data that encapsulates the most variation in one dimension.  This is expressed as an eigenvector and is referred to as the \"Principle Component\". An orthoganal eigenvector is then drawn. This is then repeated for all of the N-dimensions.  The two eigenvectors that encompass the highest variation are the winners and are declared the primary component and the secondary component.  Now each point can be expressed as coordinates on the 1st component and the 2nd component (1st comp, 2nd comp) as you would on a X,Y plane.</p>\n",
    "\n",
    "<p>Voila, a 2D image representing multidimensional data.  </p>\n",
    "\n",
    "<p>How to interpret the data:</p>\n",
    "\n",
    "<p>Points that are close to each other are very similar and points far apart are very different. The X-axis always expresses a higher degree of variation in the dataset.  So points far away on the x-axis are always more different than points equally far away on the y-axis\n",
    "\n",
    "</p>"
   ]
  },
  {
   "cell_type": "markdown",
   "metadata": {},
   "source": [
    "<p>Data input:</p>\n",
    "\n",
    "<p>The dataset I used was a sample dataset that is publicly available from the HMP website (http://www.hmpdacc.org/HMQCP/all/), under \"Final OTU table\".  I changed the format a little bit while inspecting in a text editor.  I erased the #'s at the beginning of the column names and row names.  Please not this change.  I uploaded the original dataframe to my Github page in a compressed version.  My uncompressed, edited version was too big to upload.</p>"
   ]
  },
  {
   "cell_type": "code",
   "execution_count": 361,
   "metadata": {
    "collapsed": true
   },
   "outputs": [],
   "source": [
    "# Libraries used\n",
    "import os\n",
    "import pandas as pd\n",
    "from matplotlib import pyplot as plt\n",
    "import numpy as np\n",
    "from sklearn.preprocessing import StandardScaler\n",
    "from sklearn.decomposition import PCA as sklearnPCA\n"
   ]
  },
  {
   "cell_type": "code",
   "execution_count": 363,
   "metadata": {
    "collapsed": false,
    "scrolled": true
   },
   "outputs": [
    {
     "name": "stdout",
     "output_type": "stream",
     "text": [
      "             700110831  700021898  700113546  700016133\n",
      "OTU_97.1             0          0          0          0\n",
      "OTU_97.10            0          0          0          0\n",
      "OTU_97.100           0          0          0          0\n",
      "OTU_97.1000          0          0          0          0\n"
     ]
    }
   ],
   "source": [
    "\n",
    "# Using pandas to create a dataframe\n",
    "df = pd.read_csv('otu_table_psn_v13.csv', sep='\\t')\n",
    "df = pd.DataFrame(df)\n",
    "\n",
    "\n",
    "# I only want the relevant data.  There was originally a column\n",
    "# with the OTU's definition (for example, E.coli).  This messes\n",
    "# up downstream analysis and so I just deleted this column.\n",
    "\n",
    "del df['Consensus Lineage']\n",
    "\n",
    "#check the format of dataframe\n",
    "#print(df)\n",
    "\n",
    "\n",
    "# make a subset of the df for a presentation\n",
    "\n",
    "small_df = df.ix[:4, :4]\n",
    "\n",
    "print(small_df)"
   ]
  },
  {
   "cell_type": "markdown",
   "metadata": {},
   "source": [
    "### Note:  Manual vs. sklearn\n",
    "<p> You can calculate all the eigenvectors and their associated values and plot them if you'd like, but there is a really easy sklearn module that does this math for us.  It also picks the top two eigenvectors to plot.  That is what I am using here</p>"
   ]
  },
  {
   "cell_type": "markdown",
   "metadata": {},
   "source": [
    "### Metadata\n",
    "\n",
    "<p> Now to download the metadata.  This is the type of data that is recorded at the time of sample collection.  Mainly, the person's ID, their gender, and the type of sample (stool, saliva, etc). </p>\n",
    "\n",
    "<p> This was also found on the HMP website </p>"
   ]
  },
  {
   "cell_type": "code",
   "execution_count": 365,
   "metadata": {
    "collapsed": false
   },
   "outputs": [
    {
     "name": "stdout",
     "output_type": "stream",
     "text": [
      "   #SampleID       RSID  visitno     sex\n",
      "0  700013549  158013734        1  female\n",
      "1  700014386  158398106        1    male\n",
      "2  700014403  158398106        1    male\n",
      "3  700014409  158398106        1    male\n",
      "4  700014412  158398106        1    male\n"
     ]
    }
   ],
   "source": [
    "# imput w/ pandas\n",
    "meta = pd.read_csv('v13_map_uniquebyPSN.txt', sep='\\t')\n",
    "\n",
    "# check format\n",
    "# print(meta)\n",
    "\n",
    "small_meta = meta.ix[:4, :4]\n",
    "print(small_meta)"
   ]
  },
  {
   "cell_type": "markdown",
   "metadata": {},
   "source": [
    "### Subsetting the metadata\n",
    "\n",
    "<p> Now that we have the OTU table and the metadata, we can do some fun comparisons!  Let's look at the differences in community composition between three body sites:  Stool, saliva, and throat.  </p>\n",
    "\n",
    "<p>I made three metadata dataframes, subsetted by the bodysite.</p>"
   ]
  },
  {
   "cell_type": "code",
   "execution_count": 366,
   "metadata": {
    "collapsed": true
   },
   "outputs": [],
   "source": [
    "meta_stool = (meta.loc[meta['HMPbodysubsite'] == \"Stool\"])\n",
    "meta_saliva = (meta.loc[meta['HMPbodysubsite'] == \"Saliva\"])\n",
    "meta_throat = (meta.loc[meta['HMPbodysubsite'] == \"Throat\"])\n",
    "\n",
    "\n",
    "# check format\n",
    "# print(meta_stool)\n"
   ]
  },
  {
   "cell_type": "markdown",
   "metadata": {},
   "source": [
    "### Subsetting the original df\n",
    "\n",
    "<p> Now that the metadata is parsed by type, I will make a list of sample ID's corresponding to each type. (ex. a list of stool samples)</p>\n",
    "\n",
    "<p> Then, I will make three new dataframes pulling all columns that match the list of sample ID's I just created.  This subsets the original df.</p>"
   ]
  },
  {
   "cell_type": "code",
   "execution_count": 367,
   "metadata": {
    "collapsed": false,
    "scrolled": true
   },
   "outputs": [],
   "source": [
    "import numpy as np\n",
    "\n",
    "# create a list of sample IDs\n",
    "stool_list = [str(x) for x in meta_stool['#SampleID']]\n",
    "saliva_list = [str(x) for x in meta_saliva['#SampleID']]\n",
    "throat_list = [str(x) for x in meta_throat['#SampleID']]\n",
    "\n",
    "# subset original df\n",
    "stool = df.loc[:,stool_list]\n",
    "saliva = df.loc[:, saliva_list]\n",
    "throat = df.loc[:, throat_list]\n",
    "\n",
    "#check format\n",
    "# print(stool)"
   ]
  },
  {
   "cell_type": "markdown",
   "metadata": {},
   "source": [
    "### Making our subsets smaller, merging subsets, cleaning data\n",
    "\n",
    "<p> To prevent my computer from running forever, I subset the subsets (groan...) so that I am taking the first 50 samples from each </p>\n",
    "\n",
    "<p> Then, I merged the three datasets all together.</p>\n",
    "\n",
    "<p> I was running into a lot of problems with NaN's in my dataset.  I did a lot of searching and the model we use really doesn't like NaN's.  So I had to clean up the merged dataset to remove NaN's.</p>"
   ]
  },
  {
   "cell_type": "code",
   "execution_count": 369,
   "metadata": {
    "collapsed": false
   },
   "outputs": [],
   "source": [
    "\n",
    "# Subset the subsets....\n",
    "stool2 = stool.ix[:, :50]\n",
    "saliva2 = saliva.ix[:, :50]\n",
    "throat2 = throat.ix[:, :50]\n",
    "\n",
    "# check format\n",
    "# print(throat2)\n",
    "\n",
    "# merge subsets\n",
    "X_stool_saliva = stool2.join(saliva2)\n",
    "X_stool_saliva_throat = X_stool_saliva.join(throat2)\n",
    "\n",
    "# check format\n",
    "#print(X_stool_saliva_throat)\n",
    "\n",
    "# remove NaN's and replace with 0's\n",
    "X_stool_saliva_throat = X_stool_saliva_throat.replace(np.nan, 0)\n",
    "\n",
    "# check format\n",
    "# print(X_stool_saliva_throat)"
   ]
  },
  {
   "cell_type": "markdown",
   "metadata": {},
   "source": [
    "### Making Labels\n",
    "\n",
    "<p> I cannot explain exactly why this is how matlabplot takes in it's sample labels, but this was the only way I could figure out how to do it.  I am going to compare 50 stool samples to 50 salivas to 50 throats.  I had to make a list that had 50 items of \"Stool\", 50 of \"Saliva\", etc.  For some reason the model didn't accept these labels until they were in a numpy array.</p>"
   ]
  },
  {
   "cell_type": "code",
   "execution_count": 370,
   "metadata": {
    "collapsed": true
   },
   "outputs": [],
   "source": [
    "\n",
    "y_stool = [\"Stool\" for x in range(0, 50)]\n",
    "y_saliva = [\"Saliva\" for x in range(0,50)]\n",
    "y_throat = [\"Throat\" for x in range(0,50)]\n",
    "\n",
    "# merge \n",
    "y_stool_saliva_throat = y_stool + y_saliva + y_throat\n",
    "\n",
    "# convert into a np array\n",
    "y_stool_saliva_throat = np.array(y_stool_saliva_throat)\n",
    "\n",
    "# check format\n",
    "#print(y_stool_saliva_throat)"
   ]
  },
  {
   "cell_type": "code",
   "execution_count": 371,
   "metadata": {
    "collapsed": false,
    "scrolled": true
   },
   "outputs": [],
   "source": [
    "# This is the actual program to create eigenvectors, \n",
    "# eigenvalues, and to pick the best two vectors\n",
    "\n",
    "X_std = StandardScaler().fit_transform(X_stool_saliva_throat.transpose())\n",
    "sklearn_pca = sklearnPCA(n_components=150)\n",
    "Y_sklearn = sklearn_pca.fit_transform(X_std)\n"
   ]
  },
  {
   "cell_type": "markdown",
   "metadata": {},
   "source": [
    "### Plot the data!\n",
    "\n",
    "<p> Now to finally plot the data!  This is where our label list comes into play.</p>"
   ]
  },
  {
   "cell_type": "code",
   "execution_count": 372,
   "metadata": {
    "collapsed": false,
    "scrolled": true
   },
   "outputs": [
    {
     "data": {
      "image/png": "[encoded data removed]",
      "text/plain": [
       "<matplotlib.figure.Figure at 0x1417baac8>"
      ]
     },
     "metadata": {},
     "output_type": "display_data"
    }
   ],
   "source": [
    "with plt.style.context('seaborn-whitegrid'):\n",
    "    plt.figure(figsize=(6, 4))\n",
    "    for lab, col in zip(('Stool', 'Saliva', 'Throat'),\n",
    "                        ('blue', 'red', 'green')):\n",
    "        plt.scatter(Y_sklearn[y_stool_saliva_throat==lab,0],\n",
    "                    Y_sklearn[y_stool_saliva_throat==lab,1],\n",
    "                    c=col,\n",
    "                   label=lab)\n",
    "    plt.xlabel('Principal Component 1')\n",
    "    plt.ylabel('Principal Component 2')\n",
    "    plt.legend(loc='lower center')\n",
    "    plt.title('Differences in Microbial Communities:  Stool, Saliva, Throat')\n",
    "    plt.tight_layout()\n",
    "    plt.show()"
   ]
  },
  {
   "cell_type": "markdown",
   "metadata": {},
   "source": [
    "### Analysis!!!\n",
    "\n",
    "<p>There seems to be a definite difference in each sample type's composition.  They cluster somewhat close to each other based on sample type.</p>\n",
    "\n",
    "<p> I know that my python skills are working in this context because the intuitive seems to be correct: Saliva and throat samples are more closely related than saliva and stool</p>\n",
    "\n",
    "<p> Lastly, I have a priori knowledge that interindividual variance is really high in these studies, so weak clustering was kind of expected.</p>"
   ]
  },
  {
   "cell_type": "markdown",
   "metadata": {},
   "source": [
    "### One.... More.... TIME!!!!!\n",
    "\n",
    "<p> Let's repeat that whole process to see if there is a difference between male and female, across all body sites.</p>"
   ]
  },
  {
   "cell_type": "code",
   "execution_count": 373,
   "metadata": {
    "collapsed": false
   },
   "outputs": [],
   "source": [
    "meta_male = (meta.loc[meta['sex'] == \"male\"])\n",
    "meta_female = (meta.loc[meta['sex'] == \"female\"])\n",
    "\n",
    "male_list = [str(x) for x in meta_male['#SampleID']]\n",
    "female_list = [str(x) for x in meta_female['#SampleID']]\n",
    "\n",
    "# subset original df\n",
    "male = df.loc[:, male_list]\n",
    "female = df.loc[:, female_list]\n",
    "# check format\n",
    "# print(male)\n",
    "\n",
    "# subset subsets... :(\n",
    "male2 = male.ix[:, :50]\n",
    "female2 = female.ix[:, :50]\n",
    "\n",
    "\n",
    "# merge subsets\n",
    "X_male_female = male2.join(female2)\n",
    "\n",
    "# clean df\n",
    "X_male_female.replace(np.nan, 0)\n",
    "#print(X_male_female)\n",
    "\n",
    "# make labels\n",
    "y_male = [\"Male\" for x in range(0,50)]\n",
    "y_female = [\"Female\" for x in range(0,50)]\n",
    "\n",
    "# merge labels\n",
    "y_male_female = y_male + y_female\n",
    "# make into np.array\n",
    "y_male_female = np.array(y_male_female)\n",
    "\n",
    "# check format\n",
    "# print(y_male_female)"
   ]
  },
  {
   "cell_type": "code",
   "execution_count": 374,
   "metadata": {
    "collapsed": false
   },
   "outputs": [],
   "source": [
    "# Run PCA\n",
    "X_std = StandardScaler().fit_transform(X_male_female.transpose())\n",
    "sklearn_pca = sklearnPCA(n_components=100)\n",
    "Y_sklearn = sklearn_pca.fit_transform(X_std)\n"
   ]
  },
  {
   "cell_type": "code",
   "execution_count": 375,
   "metadata": {
    "collapsed": false
   },
   "outputs": [
    {
     "data": {
      "image/png": "[encoded data removed]",
      "text/plain": [
       "<matplotlib.figure.Figure at 0x14add3160>"
      ]
     },
     "metadata": {},
     "output_type": "display_data"
    }
   ],
   "source": [
    "with plt.style.context('seaborn-whitegrid'):\n",
    "    plt.figure(figsize=(6, 4))\n",
    "    for lab, col in zip(('Male', 'Female'),\n",
    "                        ('blue', 'red')):\n",
    "        plt.scatter(Y_sklearn[y_male_female==lab,0],\n",
    "                    Y_sklearn[y_male_female==lab,1],\n",
    "                    c=col,\n",
    "                   label=lab)\n",
    "    plt.xlabel('Principal Component 1')\n",
    "    plt.ylabel('Principal Component 2')\n",
    "    plt.legend(loc='lower center')\n",
    "    plt.title('Differences in Microbial Communities:  Male and Female')\n",
    "    plt.tight_layout()\n",
    "    plt.show()"
   ]
  },
  {
   "cell_type": "markdown",
   "metadata": {
    "collapsed": true
   },
   "source": [
    "### Analysis!!!!!\n",
    "\n",
    "<p> Weird!!!!  It is sadfe to say that there is little difference between males and females.  It can also be said that there is a high degree of interindividual variance among both sexes.</p>\n",
    "\n",
    "<p> My initial reaction was that this graph was not constructed correctly.  I am still skeptical of this representation, but my first PCA was as expected, so I am inclined to take this as accurate.</p>"
   ]
  }
 ],
 "metadata": {
  "anaconda-cloud": {},
  "kernelspec": {
   "display_name": "Python [default]",
   "language": "python",
   "name": "python3"
  },
  "language_info": {
   "codemirror_mode": {
    "name": "ipython",
    "version": 3
   },
   "file_extension": ".py",
   "mimetype": "text/x-python",
   "name": "python",
   "nbconvert_exporter": "python",
   "pygments_lexer": "ipython3",
   "version": "3.5.2"
  }
 },
 "nbformat": 4,
 "nbformat_minor": 1
}
